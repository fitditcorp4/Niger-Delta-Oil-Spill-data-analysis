{
 "cells": [
  {
   "cell_type": "code",
   "execution_count": null,
   "metadata": {},
   "outputs": [],
   "source": [
    "# Data processing\n",
    "# ==============================================================================\n",
    "import numpy as np\n",
    "import pandas as pd\n",
    "\n",
    "# Plots\n",
    "# ==============================================================================\n",
    "import matplotlib.pyplot as plt\n",
    "from statsmodels.graphics.tsaplots import plot_acf\n",
    "from statsmodels.graphics.tsaplots import plot_pacf\n",
    "import plotly.express as px\n",
    "plt.style.use('fivethirtyeight')\n",
    "plt.rcParams['lines.linewidth'] = 1.5\n",
    "%matplotlib inline\n",
    "\n",
    "# Modelling and Forecasting\n",
    "# ==============================================================================\n",
    "from xgboost import XGBRegressor\n",
    "from lightgbm import LGBMRegressor\n",
    "from catboost import CatBoostRegressor\n",
    "\n",
    "from sklearn.preprocessing import OneHotEncoder\n",
    "from sklearn.preprocessing import StandardScaler\n",
    "from sklearn.compose import ColumnTransformer\n",
    "from sklearn.pipeline import make_pipeline\n",
    "\n",
    "from skforecast.ForecasterAutoreg import ForecasterAutoreg\n",
    "from skforecast.ForecasterAutoregMultiOutput import ForecasterAutoregMultiOutput\n",
    "from skforecast.model_selection import grid_search_forecaster\n",
    "from skforecast.model_selection import backtesting_forecaster\n",
    "\n",
    "from joblib import dump, load\n",
    "\n",
    "# Configuration\n",
    "# ==============================================================================\n",
    "import warnings\n",
    "warnings.filterwarnings('ignore')\n",
    "%config Completer.use_jedi = False"
   ]
  },
  {
   "cell_type": "code",
   "execution_count": null,
   "metadata": {},
   "outputs": [],
   "source": [
    "dx = pd.read_csv(r'/home/nkem/Documents/PhD_Research/dlam.csv')\n",
    "dx['incidentdate'] = pd.to_datetime(dx['incidentdate'])\n",
    "#df = dx[[\"incidentdate\",\"spillno\"]]\n",
    "data = dx.copy()\n",
    "data = data.set_index(\"incidentdate\")"
   ]
  },
  {
   "cell_type": "code",
   "execution_count": null,
   "metadata": {},
   "outputs": [],
   "source": [
    "# split the data into a train dataframe and X_test and y_test dataframes, where the number of samples for test is equal to\n",
    "# the number of periods the user wants to predict\n",
    "end_train = '2021-01-31'\n",
    "end_validation = '2021-07-31'\n",
    "\n",
    "data_train = data.loc[: end_train, :]\n",
    "data_val   = data.loc[end_train:end_validation, :]\n",
    "data_test  = data.loc[end_validation:, :]"
   ]
  },
  {
   "cell_type": "code",
   "execution_count": null,
   "metadata": {},
   "outputs": [
    {
     "data": {
      "text/plain": [
       "================= \n",
       "ForecasterAutoreg \n",
       "================= \n",
       "Regressor: XGBRegressor(base_score=None, booster=None, callbacks=None,\n",
       "             colsample_bylevel=None, colsample_bynode=None,\n",
       "             colsample_bytree=None, early_stopping_rounds=None,\n",
       "             enable_categorical=False, eval_metric=None, gamma=None,\n",
       "             gpu_id=None, grow_policy=None, importance_type=None,\n",
       "             interaction_constraints=None, learning_rate=None, max_bin=None,\n",
       "             max_cat_to_onehot=None, max_delta_step=None, max_depth=None,\n",
       "             max_leaves=None, min_child_weight=None, missing=nan,\n",
       "             monotone_constraints=None, n_estimators=100, n_jobs=None,\n",
       "             num_parallel_tree=None, predictor=None, random_state=123,\n",
       "             reg_alpha=None, reg_lambda=None, ...) \n",
       "Lags: [ 1  2  3  4  5  6  7  8  9 10 11 12 13 14 15 16 17 18 19 20 21 22 23 24] \n",
       "Window size: 24 \n",
       "Included exogenous: False \n",
       "Type of exogenous variable: None \n",
       "Exogenous variables names: None \n",
       "Training range: None \n",
       "Training index type: None \n",
       "Training index frequency: None \n",
       "Regressor parameters: {'objective': 'reg:squarederror', 'base_score': None, 'booster': None, 'callbacks': None, 'colsample_bylevel': None, 'colsample_bynode': None, 'colsample_bytree': None, 'early_stopping_rounds': None, 'enable_categorical': False, 'eval_metric': None, 'gamma': None, 'gpu_id': None, 'grow_policy': None, 'importance_type': None, 'interaction_constraints': None, 'learning_rate': None, 'max_bin': None, 'max_cat_to_onehot': None, 'max_delta_step': None, 'max_depth': None, 'max_leaves': None, 'min_child_weight': None, 'missing': nan, 'monotone_constraints': None, 'n_estimators': 100, 'n_jobs': None, 'num_parallel_tree': None, 'predictor': None, 'random_state': 123, 'reg_alpha': None, 'reg_lambda': None, 'sampling_method': None, 'scale_pos_weight': None, 'subsample': None, 'tree_method': None, 'validate_parameters': None, 'verbosity': None} \n",
       "Creation date: 2022-09-25 15:39:08 \n",
       "Last fit date: None \n",
       "Skforecast version: 0.4.3 "
      ]
     },
     "execution_count": 61,
     "metadata": {},
     "output_type": "execute_result"
    }
   ],
   "source": [
    "# Create forecaster\n",
    "# ==============================================================================\n",
    "forecaster = ForecasterAutoreg(\n",
    "                regressor = XGBRegressor(random_state=123),\n",
    "                lags = 24\n",
    "                )\n",
    "\n",
    "forecaster"
   ]
  },
  {
   "cell_type": "code",
   "execution_count": 62,
   "metadata": {},
   "outputs": [
    {
     "name": "stdout",
     "output_type": "stream",
     "text": [
      "Number of models compared: 48\n"
     ]
    },
    {
     "name": "stderr",
     "output_type": "stream",
     "text": [
      "loop lags_grid: 100%|███████████████████████████████████████| 4/4 [01:55<00:00, 28.84s/it]\n"
     ]
    },
    {
     "name": "stdout",
     "output_type": "stream",
     "text": [
      "`Forecaster` refitted using the best-found lags and parameters, and the whole data set: \n",
      "  Lags: [1] \n",
      "  Parameters: {'learning_rate': 0.01, 'max_depth': 3, 'n_estimators': 100}\n",
      "  Backtesting metric: 5.37440808614095\n",
      "\n"
     ]
    }
   ],
   "source": [
    "# Grid search of hyperparameters and lags\n",
    "# ==============================================================================\n",
    "# Regressor hyperparameters\n",
    "param_grid = {\n",
    "    'n_estimators': [100, 1000],\n",
    "    'max_depth': [3, 5, 10],\n",
    "    'learning_rate': [0.01, 0.1]\n",
    "    }\n",
    "\n",
    "# Lags used as predictors\n",
    "lags_grid = [1, 2, 3, [1, 2, 3, 4, 12, 24, 48, 71, 72, 73]]\n",
    "\n",
    "\n",
    "results_grid = grid_search_forecaster(\n",
    "        forecaster         = forecaster,\n",
    "        y                  = data.loc[:end_validation, 'spillno'], # Train and validation data\n",
    "        param_grid         = param_grid,\n",
    "        lags_grid          = lags_grid,\n",
    "        steps              = 3,\n",
    "        refit              = False,\n",
    "        metric             = 'mean_absolute_error',\n",
    "        initial_train_size = int(len(data_train)), # Model is trained with trainign data\n",
    "        fixed_train_size   = False,\n",
    "        return_best        = True,\n",
    "        verbose            = False\n",
    "        )"
   ]
  },
  {
   "cell_type": "code",
   "execution_count": 63,
   "metadata": {},
   "outputs": [
    {
     "name": "stdout",
     "output_type": "stream",
     "text": [
      "Backtest error: 6.522022438049317\n"
     ]
    }
   ],
   "source": [
    "# Backtesting\n",
    "# ==============================================================================\n",
    "metric, predictions = backtesting_forecaster(\n",
    "    forecaster = forecaster,\n",
    "    y          = data['spillno'],\n",
    "    initial_train_size = len(data.loc[:end_validation]),\n",
    "    fixed_train_size   = False,\n",
    "    steps      = 3,\n",
    "    refit      = False,\n",
    "    metric     = 'mean_absolute_error',\n",
    "    verbose    = False # Change to True to see detailed information\n",
    "    )\n",
    "\n",
    "print(f\"Backtest error: {metric}\")"
   ]
  },
  {
   "cell_type": "code",
   "execution_count": 64,
   "metadata": {},
   "outputs": [
    {
     "data": {
      "text/html": [
       "<div>\n",
       "<style scoped>\n",
       "    .dataframe tbody tr th:only-of-type {\n",
       "        vertical-align: middle;\n",
       "    }\n",
       "\n",
       "    .dataframe tbody tr th {\n",
       "        vertical-align: top;\n",
       "    }\n",
       "\n",
       "    .dataframe thead th {\n",
       "        text-align: right;\n",
       "    }\n",
       "</style>\n",
       "<table border=\"1\" class=\"dataframe\">\n",
       "  <thead>\n",
       "    <tr style=\"text-align: right;\">\n",
       "      <th></th>\n",
       "      <th>pred</th>\n",
       "    </tr>\n",
       "  </thead>\n",
       "  <tbody>\n",
       "    <tr>\n",
       "      <th>1</th>\n",
       "      <td>17.455532</td>\n",
       "    </tr>\n",
       "    <tr>\n",
       "      <th>2</th>\n",
       "      <td>17.455532</td>\n",
       "    </tr>\n",
       "    <tr>\n",
       "      <th>3</th>\n",
       "      <td>17.455532</td>\n",
       "    </tr>\n",
       "    <tr>\n",
       "      <th>1</th>\n",
       "      <td>13.754084</td>\n",
       "    </tr>\n",
       "    <tr>\n",
       "      <th>2</th>\n",
       "      <td>7.091336</td>\n",
       "    </tr>\n",
       "  </tbody>\n",
       "</table>\n",
       "</div>"
      ],
      "text/plain": [
       "        pred\n",
       "1  17.455532\n",
       "2  17.455532\n",
       "3  17.455532\n",
       "1  13.754084\n",
       "2   7.091336"
      ]
     },
     "execution_count": 64,
     "metadata": {},
     "output_type": "execute_result"
    }
   ],
   "source": [
    "predictions"
   ]
  },
  {
   "cell_type": "code",
   "execution_count": 65,
   "metadata": {},
   "outputs": [
    {
     "data": {
      "text/html": [
       "<div>\n",
       "<style scoped>\n",
       "    .dataframe tbody tr th:only-of-type {\n",
       "        vertical-align: middle;\n",
       "    }\n",
       "\n",
       "    .dataframe tbody tr th {\n",
       "        vertical-align: top;\n",
       "    }\n",
       "\n",
       "    .dataframe thead th {\n",
       "        text-align: right;\n",
       "    }\n",
       "</style>\n",
       "<table border=\"1\" class=\"dataframe\">\n",
       "  <thead>\n",
       "    <tr style=\"text-align: right;\">\n",
       "      <th></th>\n",
       "      <th>estimatedqty</th>\n",
       "      <th>spillno</th>\n",
       "      <th>year</th>\n",
       "      <th>month</th>\n",
       "    </tr>\n",
       "    <tr>\n",
       "      <th>incidentdate</th>\n",
       "      <th></th>\n",
       "      <th></th>\n",
       "      <th></th>\n",
       "      <th></th>\n",
       "    </tr>\n",
       "  </thead>\n",
       "  <tbody>\n",
       "    <tr>\n",
       "      <th>2005-01-31</th>\n",
       "      <td>100.05700</td>\n",
       "      <td>3</td>\n",
       "      <td>2005</td>\n",
       "      <td>January</td>\n",
       "    </tr>\n",
       "    <tr>\n",
       "      <th>2005-02-28</th>\n",
       "      <td>0.03000</td>\n",
       "      <td>1</td>\n",
       "      <td>2005</td>\n",
       "      <td>February</td>\n",
       "    </tr>\n",
       "    <tr>\n",
       "      <th>2005-03-31</th>\n",
       "      <td>3.06000</td>\n",
       "      <td>2</td>\n",
       "      <td>2005</td>\n",
       "      <td>March</td>\n",
       "    </tr>\n",
       "    <tr>\n",
       "      <th>2005-04-30</th>\n",
       "      <td>820.30040</td>\n",
       "      <td>32</td>\n",
       "      <td>2005</td>\n",
       "      <td>April</td>\n",
       "    </tr>\n",
       "    <tr>\n",
       "      <th>2005-05-31</th>\n",
       "      <td>59.00000</td>\n",
       "      <td>2</td>\n",
       "      <td>2005</td>\n",
       "      <td>May</td>\n",
       "    </tr>\n",
       "    <tr>\n",
       "      <th>...</th>\n",
       "      <td>...</td>\n",
       "      <td>...</td>\n",
       "      <td>...</td>\n",
       "      <td>...</td>\n",
       "    </tr>\n",
       "    <tr>\n",
       "      <th>2021-08-31</th>\n",
       "      <td>205.20000</td>\n",
       "      <td>14</td>\n",
       "      <td>2021</td>\n",
       "      <td>August</td>\n",
       "    </tr>\n",
       "    <tr>\n",
       "      <th>2021-09-30</th>\n",
       "      <td>13177.78000</td>\n",
       "      <td>21</td>\n",
       "      <td>2021</td>\n",
       "      <td>September</td>\n",
       "    </tr>\n",
       "    <tr>\n",
       "      <th>2021-10-31</th>\n",
       "      <td>3888.33140</td>\n",
       "      <td>15</td>\n",
       "      <td>2021</td>\n",
       "      <td>October</td>\n",
       "    </tr>\n",
       "    <tr>\n",
       "      <th>2021-11-30</th>\n",
       "      <td>129.51400</td>\n",
       "      <td>17</td>\n",
       "      <td>2021</td>\n",
       "      <td>November</td>\n",
       "    </tr>\n",
       "    <tr>\n",
       "      <th>2021-12-31</th>\n",
       "      <td>1262.54904</td>\n",
       "      <td>27</td>\n",
       "      <td>2021</td>\n",
       "      <td>December</td>\n",
       "    </tr>\n",
       "  </tbody>\n",
       "</table>\n",
       "<p>204 rows × 4 columns</p>\n",
       "</div>"
      ],
      "text/plain": [
       "              estimatedqty  spillno  year      month\n",
       "incidentdate                                        \n",
       "2005-01-31       100.05700        3  2005    January\n",
       "2005-02-28         0.03000        1  2005   February\n",
       "2005-03-31         3.06000        2  2005      March\n",
       "2005-04-30       820.30040       32  2005      April\n",
       "2005-05-31        59.00000        2  2005        May\n",
       "...                    ...      ...   ...        ...\n",
       "2021-08-31       205.20000       14  2021     August\n",
       "2021-09-30     13177.78000       21  2021  September\n",
       "2021-10-31      3888.33140       15  2021    October\n",
       "2021-11-30       129.51400       17  2021   November\n",
       "2021-12-31      1262.54904       27  2021   December\n",
       "\n",
       "[204 rows x 4 columns]"
      ]
     },
     "execution_count": 65,
     "metadata": {},
     "output_type": "execute_result"
    }
   ],
   "source": [
    "data"
   ]
  },
  {
   "cell_type": "code",
   "execution_count": 66,
   "metadata": {},
   "outputs": [],
   "source": [
    "# Store categorical variables as category type\n",
    "# ==============================================================================\n",
    "#data['estimatedqty'] = data['estimatedty'].astype('category')\n",
    "data['month']   = data['month'].astype('category')\n",
    "data['year'] = data['year'].astype('category')\n",
    "data['year'] = data['year'].astype('category')\n",
    "#data['day'] = data['day'].astype('category')"
   ]
  },
  {
   "cell_type": "code",
   "execution_count": 67,
   "metadata": {},
   "outputs": [
    {
     "data": {
      "text/html": [
       "<div>\n",
       "<style scoped>\n",
       "    .dataframe tbody tr th:only-of-type {\n",
       "        vertical-align: middle;\n",
       "    }\n",
       "\n",
       "    .dataframe tbody tr th {\n",
       "        vertical-align: top;\n",
       "    }\n",
       "\n",
       "    .dataframe thead th {\n",
       "        text-align: right;\n",
       "    }\n",
       "</style>\n",
       "<table border=\"1\" class=\"dataframe\">\n",
       "  <thead>\n",
       "    <tr style=\"text-align: right;\">\n",
       "      <th></th>\n",
       "      <th>estimatedqty</th>\n",
       "      <th>spillno</th>\n",
       "      <th>year_2005</th>\n",
       "      <th>year_2006</th>\n",
       "      <th>year_2007</th>\n",
       "      <th>year_2008</th>\n",
       "      <th>year_2009</th>\n",
       "      <th>year_2010</th>\n",
       "      <th>year_2011</th>\n",
       "      <th>year_2012</th>\n",
       "      <th>...</th>\n",
       "      <th>month_December</th>\n",
       "      <th>month_February</th>\n",
       "      <th>month_January</th>\n",
       "      <th>month_July</th>\n",
       "      <th>month_June</th>\n",
       "      <th>month_March</th>\n",
       "      <th>month_May</th>\n",
       "      <th>month_November</th>\n",
       "      <th>month_October</th>\n",
       "      <th>month_September</th>\n",
       "    </tr>\n",
       "    <tr>\n",
       "      <th>incidentdate</th>\n",
       "      <th></th>\n",
       "      <th></th>\n",
       "      <th></th>\n",
       "      <th></th>\n",
       "      <th></th>\n",
       "      <th></th>\n",
       "      <th></th>\n",
       "      <th></th>\n",
       "      <th></th>\n",
       "      <th></th>\n",
       "      <th></th>\n",
       "      <th></th>\n",
       "      <th></th>\n",
       "      <th></th>\n",
       "      <th></th>\n",
       "      <th></th>\n",
       "      <th></th>\n",
       "      <th></th>\n",
       "      <th></th>\n",
       "      <th></th>\n",
       "      <th></th>\n",
       "    </tr>\n",
       "  </thead>\n",
       "  <tbody>\n",
       "    <tr>\n",
       "      <th>2005-01-31</th>\n",
       "      <td>100.057</td>\n",
       "      <td>3</td>\n",
       "      <td>1</td>\n",
       "      <td>0</td>\n",
       "      <td>0</td>\n",
       "      <td>0</td>\n",
       "      <td>0</td>\n",
       "      <td>0</td>\n",
       "      <td>0</td>\n",
       "      <td>0</td>\n",
       "      <td>...</td>\n",
       "      <td>0</td>\n",
       "      <td>0</td>\n",
       "      <td>1</td>\n",
       "      <td>0</td>\n",
       "      <td>0</td>\n",
       "      <td>0</td>\n",
       "      <td>0</td>\n",
       "      <td>0</td>\n",
       "      <td>0</td>\n",
       "      <td>0</td>\n",
       "    </tr>\n",
       "    <tr>\n",
       "      <th>2005-02-28</th>\n",
       "      <td>0.030</td>\n",
       "      <td>1</td>\n",
       "      <td>1</td>\n",
       "      <td>0</td>\n",
       "      <td>0</td>\n",
       "      <td>0</td>\n",
       "      <td>0</td>\n",
       "      <td>0</td>\n",
       "      <td>0</td>\n",
       "      <td>0</td>\n",
       "      <td>...</td>\n",
       "      <td>0</td>\n",
       "      <td>1</td>\n",
       "      <td>0</td>\n",
       "      <td>0</td>\n",
       "      <td>0</td>\n",
       "      <td>0</td>\n",
       "      <td>0</td>\n",
       "      <td>0</td>\n",
       "      <td>0</td>\n",
       "      <td>0</td>\n",
       "    </tr>\n",
       "    <tr>\n",
       "      <th>2005-03-31</th>\n",
       "      <td>3.060</td>\n",
       "      <td>2</td>\n",
       "      <td>1</td>\n",
       "      <td>0</td>\n",
       "      <td>0</td>\n",
       "      <td>0</td>\n",
       "      <td>0</td>\n",
       "      <td>0</td>\n",
       "      <td>0</td>\n",
       "      <td>0</td>\n",
       "      <td>...</td>\n",
       "      <td>0</td>\n",
       "      <td>0</td>\n",
       "      <td>0</td>\n",
       "      <td>0</td>\n",
       "      <td>0</td>\n",
       "      <td>1</td>\n",
       "      <td>0</td>\n",
       "      <td>0</td>\n",
       "      <td>0</td>\n",
       "      <td>0</td>\n",
       "    </tr>\n",
       "  </tbody>\n",
       "</table>\n",
       "<p>3 rows × 31 columns</p>\n",
       "</div>"
      ],
      "text/plain": [
       "              estimatedqty  spillno  year_2005  year_2006  year_2007  \\\n",
       "incidentdate                                                           \n",
       "2005-01-31         100.057        3          1          0          0   \n",
       "2005-02-28           0.030        1          1          0          0   \n",
       "2005-03-31           3.060        2          1          0          0   \n",
       "\n",
       "              year_2008  year_2009  year_2010  year_2011  year_2012  ...  \\\n",
       "incidentdate                                                         ...   \n",
       "2005-01-31            0          0          0          0          0  ...   \n",
       "2005-02-28            0          0          0          0          0  ...   \n",
       "2005-03-31            0          0          0          0          0  ...   \n",
       "\n",
       "              month_December  month_February  month_January  month_July  \\\n",
       "incidentdate                                                              \n",
       "2005-01-31                 0               0              1           0   \n",
       "2005-02-28                 0               1              0           0   \n",
       "2005-03-31                 0               0              0           0   \n",
       "\n",
       "              month_June  month_March  month_May  month_November  \\\n",
       "incidentdate                                                       \n",
       "2005-01-31             0            0          0               0   \n",
       "2005-02-28             0            0          0               0   \n",
       "2005-03-31             0            1          0               0   \n",
       "\n",
       "              month_October  month_September  \n",
       "incidentdate                                  \n",
       "2005-01-31                0                0  \n",
       "2005-02-28                0                0  \n",
       "2005-03-31                0                0  \n",
       "\n",
       "[3 rows x 31 columns]"
      ]
     },
     "execution_count": 67,
     "metadata": {},
     "output_type": "execute_result"
    }
   ],
   "source": [
    "# One hot encoding\n",
    "# ==============================================================================\n",
    "data = pd.get_dummies(data, columns=['year', 'month'])\n",
    "data.head(3)"
   ]
  },
  {
   "cell_type": "code",
   "execution_count": 68,
   "metadata": {},
   "outputs": [
    {
     "name": "stdout",
     "output_type": "stream",
     "text": [
      "['year_2005', 'year_2006', 'year_2007', 'year_2008', 'year_2009', 'year_2010', 'year_2011', 'year_2012', 'year_2013', 'year_2014', 'year_2015', 'year_2016', 'year_2017', 'year_2018', 'year_2019', 'year_2020', 'year_2021', 'month_April', 'month_August', 'month_December', 'month_February', 'month_January', 'month_July', 'month_June', 'month_March', 'month_May', 'month_November', 'month_October', 'month_September']\n"
     ]
    }
   ],
   "source": [
    "# Select exogenous variables, including those generated by one hot encoding.\n",
    "exog_variables = [column for column in data.columns\n",
    "                      if column.startswith(('year', 'month'))]\n",
    "#exog_variables.extend(['estimatedqty'])\n",
    "print(exog_variables)"
   ]
  },
  {
   "cell_type": "code",
   "execution_count": 69,
   "metadata": {},
   "outputs": [],
   "source": [
    "# Since data has been transformed, the train, val and test split is repeated.\n",
    "data_train = data.loc[: end_train, :]\n",
    "data_val   = data.loc[end_train:end_validation, :]\n",
    "data_test  = data.loc[end_validation:, :]"
   ]
  },
  {
   "cell_type": "code",
   "execution_count": 70,
   "metadata": {},
   "outputs": [],
   "source": [
    "# Create forecaster\n",
    "# ==============================================================================\n",
    "forecaster = ForecasterAutoreg(\n",
    "                regressor = XGBRegressor(random_state=123),\n",
    "                lags = 3\n",
    "                )"
   ]
  },
  {
   "cell_type": "code",
   "execution_count": 71,
   "metadata": {},
   "outputs": [
    {
     "name": "stdout",
     "output_type": "stream",
     "text": [
      "Number of models compared: 48\n"
     ]
    },
    {
     "name": "stderr",
     "output_type": "stream",
     "text": [
      "loop lags_grid: 100%|███████████████████████████████████████| 4/4 [01:55<00:00, 28.81s/it]\n"
     ]
    },
    {
     "name": "stdout",
     "output_type": "stream",
     "text": [
      "`Forecaster` refitted using the best-found lags and parameters, and the whole data set: \n",
      "  Lags: [1] \n",
      "  Parameters: {'learning_rate': 0.01, 'max_depth': 10, 'n_estimators': 100}\n",
      "  Backtesting metric: 3.268744468688965\n",
      "\n"
     ]
    }
   ],
   "source": [
    "# Grid search of hyperparameters and lags\n",
    "# ==============================================================================\n",
    "# Regressor hyperparameters\n",
    "param_grid = {\n",
    "    'n_estimators': [100, 1000],\n",
    "    'max_depth': [3, 5, 10],\n",
    "    'learning_rate': [0.01, 0.1]\n",
    "    }\n",
    "\n",
    "# Lags used as predictors\n",
    "lags_grid = [1, 2, 3, [1, 2, 3, 4, 12, 24, 48, 71, 72, 73]]\n",
    "\n",
    "results_grid = grid_search_forecaster(\n",
    "                        forecaster         = forecaster,\n",
    "                        y                  = data.loc[:end_validation, 'spillno'],\n",
    "                        exog               = data.loc[:end_validation, exog_variables],\n",
    "                        param_grid         = param_grid,\n",
    "                        lags_grid          = lags_grid,\n",
    "                        steps              = 36,\n",
    "                        refit              = False,\n",
    "                        metric             = 'mean_absolute_error',\n",
    "                        initial_train_size = int(len(data_train)),\n",
    "                        fixed_train_size   = False,\n",
    "                        return_best        = True,\n",
    "                        verbose            = False\n",
    "                        )"
   ]
  },
  {
   "cell_type": "code",
   "execution_count": 72,
   "metadata": {},
   "outputs": [
    {
     "name": "stdout",
     "output_type": "stream",
     "text": [
      "Backtest error: 9.468829345703124\n"
     ]
    }
   ],
   "source": [
    "# Backtesting\n",
    "# ==============================================================================\n",
    "metric, predictions = backtesting_forecaster(\n",
    "    forecaster = forecaster,\n",
    "    y          = data['spillno'],\n",
    "    initial_train_size = len(data.loc[:end_validation]),\n",
    "    fixed_train_size   = False,\n",
    "    steps      = 3,\n",
    "    refit      = False,\n",
    "    metric     = 'mean_absolute_error',\n",
    "    verbose    = False # Change to True to see detailed information\n",
    "    )\n",
    "\n",
    "print(f\"Backtest error: {metric}\")"
   ]
  },
  {
   "cell_type": "code",
   "execution_count": 73,
   "metadata": {},
   "outputs": [
    {
     "data": {
      "text/html": [
       "<div>\n",
       "<style scoped>\n",
       "    .dataframe tbody tr th:only-of-type {\n",
       "        vertical-align: middle;\n",
       "    }\n",
       "\n",
       "    .dataframe tbody tr th {\n",
       "        vertical-align: top;\n",
       "    }\n",
       "\n",
       "    .dataframe thead th {\n",
       "        text-align: right;\n",
       "    }\n",
       "</style>\n",
       "<table border=\"1\" class=\"dataframe\">\n",
       "  <thead>\n",
       "    <tr style=\"text-align: right;\">\n",
       "      <th></th>\n",
       "      <th>pred</th>\n",
       "    </tr>\n",
       "  </thead>\n",
       "  <tbody>\n",
       "    <tr>\n",
       "      <th>1</th>\n",
       "      <td>16.443964</td>\n",
       "    </tr>\n",
       "    <tr>\n",
       "      <th>2</th>\n",
       "      <td>13.186886</td>\n",
       "    </tr>\n",
       "    <tr>\n",
       "      <th>3</th>\n",
       "      <td>4.363023</td>\n",
       "    </tr>\n",
       "    <tr>\n",
       "      <th>1</th>\n",
       "      <td>13.186886</td>\n",
       "    </tr>\n",
       "    <tr>\n",
       "      <th>2</th>\n",
       "      <td>4.363023</td>\n",
       "    </tr>\n",
       "  </tbody>\n",
       "</table>\n",
       "</div>"
      ],
      "text/plain": [
       "        pred\n",
       "1  16.443964\n",
       "2  13.186886\n",
       "3   4.363023\n",
       "1  13.186886\n",
       "2   4.363023"
      ]
     },
     "execution_count": 73,
     "metadata": {},
     "output_type": "execute_result"
    }
   ],
   "source": [
    "predictions"
   ]
  },
  {
   "cell_type": "code",
   "execution_count": 78,
   "metadata": {},
   "outputs": [
    {
     "ename": "ImportError",
     "evalue": "cannot import name 'random_search_forecaster' from 'skforecast.model_selection' (/home/nkem/.local/lib/python3.8/site-packages/skforecast/model_selection/__init__.py)",
     "output_type": "error",
     "traceback": [
      "\u001b[0;31m---------------------------------------------------------------------------\u001b[0m",
      "\u001b[0;31mImportError\u001b[0m                               Traceback (most recent call last)",
      "\u001b[1;32m/home/nkem/Documents/PhD_Research/xgboost_new.ipynb Cell 17\u001b[0m in \u001b[0;36m<cell line: 1>\u001b[0;34m()\u001b[0m\n\u001b[0;32m----> <a href='vscode-notebook-cell:/home/nkem/Documents/PhD_Research/xgboost_new.ipynb#X25sZmlsZQ%3D%3D?line=0'>1</a>\u001b[0m \u001b[39mfrom\u001b[39;00m \u001b[39mskforecast\u001b[39;00m\u001b[39m.\u001b[39;00m\u001b[39mmodel_selection\u001b[39;00m \u001b[39mimport\u001b[39;00m random_search_forecaster\n",
      "\u001b[0;31mImportError\u001b[0m: cannot import name 'random_search_forecaster' from 'skforecast.model_selection' (/home/nkem/.local/lib/python3.8/site-packages/skforecast/model_selection/__init__.py)"
     ]
    }
   ],
   "source": [
    "from skforecast.model_selection import random_search_forecaster"
   ]
  },
  {
   "cell_type": "code",
   "execution_count": 77,
   "metadata": {},
   "outputs": [
    {
     "ename": "TypeError",
     "evalue": "__init__() got an unexpected keyword argument 'forecaster'",
     "output_type": "error",
     "traceback": [
      "\u001b[0;31m---------------------------------------------------------------------------\u001b[0m",
      "\u001b[0;31mTypeError\u001b[0m                                 Traceback (most recent call last)",
      "\u001b[1;32m/home/nkem/Documents/PhD_Research/xgboost_new.ipynb Cell 18\u001b[0m in \u001b[0;36m<cell line: 14>\u001b[0;34m()\u001b[0m\n\u001b[1;32m     <a href='vscode-notebook-cell:/home/nkem/Documents/PhD_Research/xgboost_new.ipynb#X22sZmlsZQ%3D%3D?line=10'>11</a>\u001b[0m \u001b[39m# Lags used as predictors\u001b[39;00m\n\u001b[1;32m     <a href='vscode-notebook-cell:/home/nkem/Documents/PhD_Research/xgboost_new.ipynb#X22sZmlsZQ%3D%3D?line=11'>12</a>\u001b[0m lags_grid \u001b[39m=\u001b[39m \u001b[39mrange\u001b[39m(\u001b[39m1\u001b[39m, \u001b[39m24\u001b[39m)\n\u001b[0;32m---> <a href='vscode-notebook-cell:/home/nkem/Documents/PhD_Research/xgboost_new.ipynb#X22sZmlsZQ%3D%3D?line=13'>14</a>\u001b[0m results_grid \u001b[39m=\u001b[39m RandomizedSearchCV(\n\u001b[1;32m     <a href='vscode-notebook-cell:/home/nkem/Documents/PhD_Research/xgboost_new.ipynb#X22sZmlsZQ%3D%3D?line=14'>15</a>\u001b[0m                         forecaster         \u001b[39m=\u001b[39;49m forecaster,\n\u001b[1;32m     <a href='vscode-notebook-cell:/home/nkem/Documents/PhD_Research/xgboost_new.ipynb#X22sZmlsZQ%3D%3D?line=15'>16</a>\u001b[0m                         y                  \u001b[39m=\u001b[39;49m data\u001b[39m.\u001b[39;49mloc[:end_validation, \u001b[39m'\u001b[39;49m\u001b[39mspillno\u001b[39;49m\u001b[39m'\u001b[39;49m],\n\u001b[1;32m     <a href='vscode-notebook-cell:/home/nkem/Documents/PhD_Research/xgboost_new.ipynb#X22sZmlsZQ%3D%3D?line=16'>17</a>\u001b[0m                         exog               \u001b[39m=\u001b[39;49m data\u001b[39m.\u001b[39;49mloc[:end_validation, exog_variables],\n\u001b[1;32m     <a href='vscode-notebook-cell:/home/nkem/Documents/PhD_Research/xgboost_new.ipynb#X22sZmlsZQ%3D%3D?line=17'>18</a>\u001b[0m                         param_grid         \u001b[39m=\u001b[39;49m param_grid,\n\u001b[1;32m     <a href='vscode-notebook-cell:/home/nkem/Documents/PhD_Research/xgboost_new.ipynb#X22sZmlsZQ%3D%3D?line=18'>19</a>\u001b[0m                         lags_grid          \u001b[39m=\u001b[39;49m lags_grid,\n\u001b[1;32m     <a href='vscode-notebook-cell:/home/nkem/Documents/PhD_Research/xgboost_new.ipynb#X22sZmlsZQ%3D%3D?line=19'>20</a>\u001b[0m                         steps              \u001b[39m=\u001b[39;49m \u001b[39m3\u001b[39;49m,\n\u001b[1;32m     <a href='vscode-notebook-cell:/home/nkem/Documents/PhD_Research/xgboost_new.ipynb#X22sZmlsZQ%3D%3D?line=20'>21</a>\u001b[0m                         refit              \u001b[39m=\u001b[39;49m \u001b[39mFalse\u001b[39;49;00m,\n\u001b[1;32m     <a href='vscode-notebook-cell:/home/nkem/Documents/PhD_Research/xgboost_new.ipynb#X22sZmlsZQ%3D%3D?line=21'>22</a>\u001b[0m                         metric             \u001b[39m=\u001b[39;49m \u001b[39m'\u001b[39;49m\u001b[39mmean_absolute_error\u001b[39;49m\u001b[39m'\u001b[39;49m,\n\u001b[1;32m     <a href='vscode-notebook-cell:/home/nkem/Documents/PhD_Research/xgboost_new.ipynb#X22sZmlsZQ%3D%3D?line=22'>23</a>\u001b[0m                         initial_train_size \u001b[39m=\u001b[39;49m \u001b[39mint\u001b[39;49m(\u001b[39mlen\u001b[39;49m(data_train)),\n\u001b[1;32m     <a href='vscode-notebook-cell:/home/nkem/Documents/PhD_Research/xgboost_new.ipynb#X22sZmlsZQ%3D%3D?line=23'>24</a>\u001b[0m                         fixed_train_size   \u001b[39m=\u001b[39;49m \u001b[39mFalse\u001b[39;49;00m,\n\u001b[1;32m     <a href='vscode-notebook-cell:/home/nkem/Documents/PhD_Research/xgboost_new.ipynb#X22sZmlsZQ%3D%3D?line=24'>25</a>\u001b[0m                         return_best        \u001b[39m=\u001b[39;49m \u001b[39mTrue\u001b[39;49;00m,\n\u001b[1;32m     <a href='vscode-notebook-cell:/home/nkem/Documents/PhD_Research/xgboost_new.ipynb#X22sZmlsZQ%3D%3D?line=25'>26</a>\u001b[0m                         verbose            \u001b[39m=\u001b[39;49m \u001b[39mFalse\u001b[39;49;00m\n\u001b[1;32m     <a href='vscode-notebook-cell:/home/nkem/Documents/PhD_Research/xgboost_new.ipynb#X22sZmlsZQ%3D%3D?line=26'>27</a>\u001b[0m                         )\n",
      "\u001b[0;31mTypeError\u001b[0m: __init__() got an unexpected keyword argument 'forecaster'"
     ]
    }
   ],
   "source": [
    "# Grid search of hyperparameters and lags\n",
    "# ==============================================================================\n",
    "# Regressor hyperparameters\n",
    "param_grid = {\n",
    "    'n_estimators': range(10, 1000, 10),\n",
    "    'max_depth': range(1, 10),\n",
    "    'learning_rate': [0.01, 0.02,0.03,0.04,0.05,0.06,0.07,0.08,0.09,0.1]\n",
    "\n",
    "    }\n",
    "\n",
    "# Lags used as predictors\n",
    "lags_grid = range(1, 24)\n",
    "\n",
    "results_grid = grid_search_forecaster(\n",
    "                        forecaster         = forecaster,\n",
    "                        y                  = data.loc[:end_validation, 'spillno'],\n",
    "                        exog               = data.loc[:end_validation, exog_variables],\n",
    "                        param_grid         = param_grid,\n",
    "                        lags_grid          = lags_grid,\n",
    "                        steps              = 3,\n",
    "                        refit              = False,\n",
    "                        metric             = 'mean_absolute_error',\n",
    "                        initial_train_size = int(len(data_train)),\n",
    "                        fixed_train_size   = False,\n",
    "                        return_best        = True,\n",
    "                        verbose            = False\n",
    "                        )\n"
   ]
  }
 ],
 "metadata": {
  "kernelspec": {
   "display_name": "Python 3.8.14 64-bit",
   "language": "python",
   "name": "python3"
  },
  "language_info": {
   "codemirror_mode": {
    "name": "ipython",
    "version": 3
   },
   "file_extension": ".py",
   "mimetype": "text/x-python",
   "name": "python",
   "nbconvert_exporter": "python",
   "pygments_lexer": "ipython3",
   "version": "3.8.15 (default, Oct 12 2022, 19:15:16) \n[GCC 11.2.0]"
  },
  "orig_nbformat": 4,
  "vscode": {
   "interpreter": {
    "hash": "5b3ded1ccb95c1d9bd405e7b823d9e85424cde40fbb5985eb47e999ef50e15b4"
   }
  }
 },
 "nbformat": 4,
 "nbformat_minor": 2
}
