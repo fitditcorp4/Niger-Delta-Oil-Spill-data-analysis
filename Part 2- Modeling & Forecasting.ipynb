{
 "cells": [
  {
   "cell_type": "code",
   "execution_count": 1,
   "metadata": {},
   "outputs": [],
   "source": [
    "#imports library\n",
    "import pandas as pd \n",
    "import datetime as dt\n",
    "import matplotlib.pyplot as plt\n",
    "from matplotlib import pyplot\n",
    "import seaborn as sns\n",
    "import statsmodels.api as sm\n",
    "from sklearn.model_selection import train_test_split\n",
    "from sklearn.linear_model import LinearRegression\n",
    "from pandas.plotting import autocorrelation_plot\n",
    "from random import randrange\n",
    "from statsmodels.tsa.seasonal import seasonal_decompose\n",
    "from pandas import datetime\n",
    "import numpy as np\n",
    "from pandas import read_json\n",
    "from pandas import read_csv\n",
    "from pandas import DataFrame\n",
    "from pandas import Grouper\n",
    "from numpy import array\n",
    "import matplotlib.colors as colors\n",
    "import matplotlib.cm as cm\n",
    "from pylab import rcParams\n",
    "import warnings\n",
    "import itertools\n",
    "from pandas import Series\n",
    "plt.style.use('fivethirtyeight')\n",
    "from dateutil.relativedelta import relativedelta \n",
    "from scipy.optimize import minimize\n",
    "from statsmodels.tsa.stattools import adfuller\n",
    "from statsmodels.graphics.tsaplots import plot_acf\n",
    "from statsmodels.graphics.tsaplots import plot_pacf\n",
    "from statsmodels.tsa.arima_model import ARIMA\n",
    "\n",
    "import statsmodels.formula.api as smf            \n",
    "import statsmodels.tsa.api as smt\n",
    "import statsmodels.api as sm\n",
    "import scipy.stats as scs\n",
    "\n",
    "from itertools import product                    \n",
    "from tqdm import tqdm_notebook\n",
    "\n",
    "import warnings                                  \n",
    "warnings.filterwarnings('ignore')\n",
    "\n",
    "from sklearn.metrics import r2_score, median_absolute_error, mean_absolute_error\n",
    "from sklearn.metrics import median_absolute_error, mean_squared_error, mean_squared_log_error\n",
    "\n",
    "def mean_absolute_percentage_error(y_true, y_pred): \n",
    "    return np.mean(np.abs((y_true - y_pred) / y_true)) * 100\n",
    "\n",
    "from math import sqrt\n",
    "\n",
    "\n",
    "from dateutil.parser import parse\n",
    "%matplotlib inline"
   ]
  },
  {
   "cell_type": "markdown",
   "metadata": {},
   "source": [
    "# Naive Hypothesis"
   ]
  },
  {
   "cell_type": "markdown",
   "metadata": {},
   "source": [
    "# Develop a Test Harness - Define a Validation Dataset & Developing a Method for Model Evaluation"
   ]
  },
  {
   "cell_type": "code",
   "execution_count": 2,
   "metadata": {},
   "outputs": [
    {
     "name": "stdout",
     "output_type": "stream",
     "text": [
      "dataset1 168, validation118\n",
      "dataset2 168, validation218\n"
     ]
    }
   ],
   "source": [
    "# Split the data into a training and testing dataset\n",
    "Series = read_csv('dfEq1MdM_YMC.csv', header=0, index_col=0, parse_dates = True, squeeze = True )\n",
    "split_point = len(Series) - 18\n",
    "dataset1, validation1 = Series.estimatedqty[0:split_point], Series.estimatedqty[split_point:]\n",
    "dataset2, validation2 = Series.spillno[0:split_point], Series.spillno[split_point:]\n",
    "print('dataset1 %d, validation1%d' % (len(dataset1), len(validation1)))\n",
    "print('dataset2 %d, validation2%d' % (len(dataset2), len(validation2)))\n",
    "dataset1.to_csv('dataset1.csv', header= False)\n",
    "validation1.to_csv('validation1.csv', header= False)\n",
    "dataset2.to_csv('dataset2.csv', header= False)\n",
    "validation2.to_csv('validation2.csv', header= False)"
   ]
  },
  {
   "cell_type": "code",
   "execution_count": 3,
   "metadata": {},
   "outputs": [
    {
     "name": "stdout",
     "output_type": "stream",
     "text": [
      ">Predicted=44853.043, Expected=1323.756\n",
      ">Predicted=1323.756, Expected=6001.042\n",
      ">Predicted=6001.042, Expected=3612.575\n",
      ">Predicted=3612.575, Expected=2325.903\n",
      ">Predicted=2325.903, Expected=3263.790\n",
      ">Predicted=3263.790, Expected=3939.546\n",
      ">Predicted=3939.546, Expected=3012.948\n",
      ">Predicted=3012.948, Expected=2844.384\n",
      ">Predicted=2844.384, Expected=1410.015\n",
      ">Predicted=1410.015, Expected=1931.603\n",
      ">Predicted=1931.603, Expected=8402.434\n",
      ">Predicted=8402.434, Expected=2300.101\n",
      ">Predicted=2300.101, Expected=817.390\n",
      ">Predicted=817.390, Expected=1412.274\n",
      ">Predicted=1412.274, Expected=2526.851\n",
      ">Predicted=2526.851, Expected=1802.429\n",
      ">Predicted=1802.429, Expected=2330.042\n",
      ">Predicted=2330.042, Expected=5851.661\n",
      ">Predicted=5851.661, Expected=2638.374\n",
      ">Predicted=2638.374, Expected=3051.184\n",
      ">Predicted=3051.184, Expected=3019.560\n",
      ">Predicted=3019.560, Expected=3194.604\n",
      ">Predicted=3194.604, Expected=3011.579\n",
      ">Predicted=3011.579, Expected=1813.534\n",
      ">Predicted=1813.534, Expected=2157.693\n",
      ">Predicted=2157.693, Expected=2325.263\n",
      ">Predicted=2325.263, Expected=8158.275\n",
      ">Predicted=8158.275, Expected=7006.559\n",
      ">Predicted=7006.559, Expected=2150.229\n",
      ">Predicted=2150.229, Expected=32608.053\n",
      ">Predicted=32608.053, Expected=1623.290\n",
      ">Predicted=1623.290, Expected=1550.476\n",
      ">Predicted=1550.476, Expected=2325.596\n",
      ">Predicted=2325.596, Expected=2270.051\n",
      ">Predicted=2270.051, Expected=11087.096\n",
      ">Predicted=11087.096, Expected=5577.740\n",
      ">Predicted=5577.740, Expected=1893.507\n",
      ">Predicted=1893.507, Expected=1256.967\n",
      ">Predicted=1256.967, Expected=3372.648\n",
      ">Predicted=3372.648, Expected=908.312\n",
      ">Predicted=908.312, Expected=4135.466\n",
      ">Predicted=4135.466, Expected=20734.027\n",
      ">Predicted=20734.027, Expected=8264.181\n",
      ">Predicted=8264.181, Expected=3616.716\n",
      ">Predicted=3616.716, Expected=3432.787\n",
      ">Predicted=3432.787, Expected=331.901\n",
      ">Predicted=331.901, Expected=2472.203\n",
      ">Predicted=2472.203, Expected=5568.150\n",
      ">Predicted=5568.150, Expected=809.276\n",
      ">Predicted=809.276, Expected=1720.805\n",
      ">Predicted=1720.805, Expected=2012.997\n",
      ">Predicted=2012.997, Expected=2837.774\n",
      ">Predicted=2837.774, Expected=1538.515\n",
      ">Predicted=1538.515, Expected=1363.496\n",
      ">Predicted=1363.496, Expected=1971.670\n",
      ">Predicted=1971.670, Expected=19888.314\n",
      ">Predicted=19888.314, Expected=1010.367\n",
      ">Predicted=1010.367, Expected=2999.346\n",
      ">Predicted=2999.346, Expected=5536.890\n",
      ">Predicted=5536.890, Expected=2035.204\n",
      ">Predicted=2035.204, Expected=297.540\n",
      ">Predicted=297.540, Expected=7270.232\n",
      ">Predicted=7270.232, Expected=2473.292\n",
      ">Predicted=2473.292, Expected=169.183\n",
      ">Predicted=169.183, Expected=1570.082\n",
      ">Predicted=1570.082, Expected=1853.703\n",
      ">Predicted=1853.703, Expected=11537.244\n",
      ">Predicted=11537.244, Expected=3080.733\n",
      ">Predicted=3080.733, Expected=1625.674\n",
      ">Predicted=1625.674, Expected=308.252\n",
      ">Predicted=308.252, Expected=2515.180\n",
      ">Predicted=2515.180, Expected=1576.761\n",
      ">Predicted=1576.761, Expected=1359.381\n",
      ">Predicted=1359.381, Expected=2376.020\n",
      ">Predicted=2376.020, Expected=769.445\n",
      ">Predicted=769.445, Expected=2175.227\n",
      ">Predicted=2175.227, Expected=3268.743\n",
      ">Predicted=3268.743, Expected=2653.612\n",
      ">Predicted=2653.612, Expected=2442.506\n",
      ">Predicted=2442.506, Expected=3826.541\n",
      ">Predicted=3826.541, Expected=1702.438\n",
      ">Predicted=1702.438, Expected=3195.144\n",
      ">Predicted=3195.144, Expected=2662.695\n",
      ">Predicted=2662.695, Expected=1198.564\n",
      "RMSE: 8168.740\n"
     ]
    }
   ],
   "source": [
    "# load data\n",
    "series = read_csv('dataset1.csv', header=None, index_col=0, parse_dates=True, squeeze=True)\n",
    "\n",
    "# prepare data\n",
    "X = series.values\n",
    "X = X.astype('float32')\n",
    "train_size = int(len(X) * 0.50)\n",
    "train, test = X[0:train_size], X[train_size:]\n",
    "\n",
    "# walk-forward validation\n",
    "history = [x for x in train]\n",
    "predictions = list()\n",
    "for i in range(len(test)):\n",
    "    # predict\n",
    "    yhat = history[-1]\n",
    "    predictions.append(yhat)\n",
    "    # observation\n",
    "    obs = test[i]\n",
    "    history.append(obs)\n",
    "    print('>Predicted=%.3f, Expected=%.3f' %(yhat, obs))\n",
    "    # report performance\n",
    "rmse = sqrt(mean_squared_error(test, predictions))\n",
    "print('RMSE: %.3f' %rmse)"
   ]
  },
  {
   "cell_type": "code",
   "execution_count": 4,
   "metadata": {},
   "outputs": [
    {
     "name": "stdout",
     "output_type": "stream",
     "text": [
      ">Predicted=44853.043, Expected=1323.756\n",
      ">Predicted=1323.756, Expected=6001.042\n",
      ">Predicted=6001.042, Expected=3612.575\n",
      ">Predicted=3612.575, Expected=2325.903\n",
      ">Predicted=2325.903, Expected=3263.790\n",
      ">Predicted=3263.790, Expected=3939.546\n",
      ">Predicted=3939.546, Expected=3012.948\n",
      ">Predicted=3012.948, Expected=2844.384\n",
      ">Predicted=2844.384, Expected=1410.015\n",
      ">Predicted=1410.015, Expected=1931.603\n",
      ">Predicted=1931.603, Expected=8402.434\n",
      ">Predicted=8402.434, Expected=2300.101\n",
      ">Predicted=2300.101, Expected=817.390\n",
      ">Predicted=817.390, Expected=1412.274\n",
      ">Predicted=1412.274, Expected=2526.851\n",
      ">Predicted=2526.851, Expected=1802.429\n",
      ">Predicted=1802.429, Expected=2330.042\n",
      ">Predicted=2330.042, Expected=5851.661\n",
      ">Predicted=5851.661, Expected=2638.374\n",
      ">Predicted=2638.374, Expected=3051.184\n",
      ">Predicted=3051.184, Expected=3019.560\n",
      ">Predicted=3019.560, Expected=3194.604\n",
      ">Predicted=3194.604, Expected=3011.579\n",
      ">Predicted=3011.579, Expected=1813.534\n",
      ">Predicted=1813.534, Expected=2157.693\n",
      ">Predicted=2157.693, Expected=2325.263\n",
      ">Predicted=2325.263, Expected=8158.275\n",
      ">Predicted=8158.275, Expected=7006.559\n",
      ">Predicted=7006.559, Expected=2150.229\n",
      ">Predicted=2150.229, Expected=32608.053\n",
      ">Predicted=32608.053, Expected=1623.290\n",
      ">Predicted=1623.290, Expected=1550.476\n",
      ">Predicted=1550.476, Expected=2325.596\n",
      ">Predicted=2325.596, Expected=2270.051\n",
      ">Predicted=2270.051, Expected=11087.096\n",
      ">Predicted=11087.096, Expected=5577.740\n",
      ">Predicted=5577.740, Expected=1893.507\n",
      ">Predicted=1893.507, Expected=1256.967\n",
      ">Predicted=1256.967, Expected=3372.648\n",
      ">Predicted=3372.648, Expected=908.312\n",
      ">Predicted=908.312, Expected=4135.466\n",
      ">Predicted=4135.466, Expected=20734.027\n",
      ">Predicted=20734.027, Expected=8264.181\n",
      ">Predicted=8264.181, Expected=3616.716\n",
      ">Predicted=3616.716, Expected=3432.787\n",
      ">Predicted=3432.787, Expected=331.901\n",
      ">Predicted=331.901, Expected=2472.203\n",
      ">Predicted=2472.203, Expected=5568.150\n",
      ">Predicted=5568.150, Expected=809.276\n",
      ">Predicted=809.276, Expected=1720.805\n",
      ">Predicted=1720.805, Expected=2012.997\n",
      ">Predicted=2012.997, Expected=2837.774\n",
      ">Predicted=2837.774, Expected=1538.515\n",
      ">Predicted=1538.515, Expected=1363.496\n",
      ">Predicted=1363.496, Expected=1971.670\n",
      ">Predicted=1971.670, Expected=19888.314\n",
      ">Predicted=19888.314, Expected=1010.367\n",
      ">Predicted=1010.367, Expected=2999.346\n",
      ">Predicted=2999.346, Expected=5536.890\n",
      ">Predicted=5536.890, Expected=2035.204\n",
      ">Predicted=2035.204, Expected=297.540\n",
      ">Predicted=297.540, Expected=7270.232\n",
      ">Predicted=7270.232, Expected=2473.292\n",
      ">Predicted=2473.292, Expected=169.183\n",
      ">Predicted=169.183, Expected=1570.082\n",
      ">Predicted=1570.082, Expected=1853.703\n",
      ">Predicted=1853.703, Expected=11537.244\n",
      ">Predicted=11537.244, Expected=3080.733\n",
      ">Predicted=3080.733, Expected=1625.674\n",
      ">Predicted=1625.674, Expected=308.252\n",
      ">Predicted=308.252, Expected=2515.180\n",
      ">Predicted=2515.180, Expected=1576.761\n",
      ">Predicted=1576.761, Expected=1359.381\n",
      ">Predicted=1359.381, Expected=2376.020\n",
      ">Predicted=2376.020, Expected=769.445\n",
      ">Predicted=769.445, Expected=2175.227\n",
      ">Predicted=2175.227, Expected=3268.743\n",
      ">Predicted=3268.743, Expected=2653.612\n",
      ">Predicted=2653.612, Expected=2442.506\n",
      ">Predicted=2442.506, Expected=3826.541\n",
      ">Predicted=3826.541, Expected=1702.438\n",
      ">Predicted=1702.438, Expected=3195.144\n",
      ">Predicted=3195.144, Expected=2662.695\n",
      ">Predicted=2662.695, Expected=1198.564\n",
      "RMSE: 8168.740\n"
     ]
    }
   ],
   "source": [
    "#ESTIMATED QUANTITY\n",
    "\n",
    "# load data\n",
    "series2 = read_csv('dataset2.csv', header=None, index_col=0, parse_dates=True, squeeze=True)\n",
    "\n",
    "# prepare data\n",
    "X2 = series.values\n",
    "X2 = X2.astype('float32')\n",
    "train_size = int(len(X2) * 0.50)\n",
    "train2, test2 = X2[0:train_size], X2[train_size:]\n",
    "\n",
    "# walk-forward validation\n",
    "history2 = [x for x in train]\n",
    "predictions2 = list()\n",
    "for i in range(len(test)):\n",
    "    # predict\n",
    "    yhat2 = history2[-1]\n",
    "    predictions2.append(yhat2)\n",
    "    # observation\n",
    "    obs2 = test2[i]\n",
    "    history2.append(obs2)\n",
    "    print('>Predicted=%.3f, Expected=%.3f' %(yhat2, obs2))\n",
    "    # report performance\n",
    "rmse = sqrt(mean_squared_error(test2, predictions2))\n",
    "print('RMSE: %.3f' %rmse)"
   ]
  },
  {
   "cell_type": "code",
   "execution_count": 5,
   "metadata": {},
   "outputs": [
    {
     "name": "stdout",
     "output_type": "stream",
     "text": [
      "count      168.000000\n",
      "mean      3951.987403\n",
      "std       6639.447346\n",
      "min          0.030000\n",
      "25%       1237.680845\n",
      "50%       2312.677950\n",
      "75%       3669.107950\n",
      "max      57005.363900\n",
      "Name: 1, dtype: float64\n"
     ]
    }
   ],
   "source": [
    "series1 = read_csv('dataset1.csv', header=None, index_col=0, parse_dates=True, squeeze=True)\n",
    "series2 = read_csv('dataset2.csv', header=None, index_col=0, parse_dates=True, squeeze=True)\n",
    "print(series1.describe())\n"
   ]
  },
  {
   "cell_type": "code",
   "execution_count": 6,
   "metadata": {},
   "outputs": [
    {
     "name": "stdout",
     "output_type": "stream",
     "text": [
      "count    168.000000\n",
      "mean      71.398810\n",
      "std       35.801706\n",
      "min        1.000000\n",
      "25%       50.250000\n",
      "50%       68.500000\n",
      "75%       90.000000\n",
      "max      186.000000\n",
      "Name: 1, dtype: float64\n"
     ]
    }
   ],
   "source": [
    "print(series2.describe())"
   ]
  },
  {
   "cell_type": "code",
   "execution_count": 7,
   "metadata": {},
   "outputs": [
    {
     "data": {
      "image/png": "[encoded data removed]",
      "text/plain": [
       "<Figure size 432x288 with 1 Axes>"
      ]
     },
     "metadata": {
      "needs_background": "light"
     },
     "output_type": "display_data"
    }
   ],
   "source": [
    "series1.plot()\n",
    "plt.show()\n"
   ]
  },
  {
   "cell_type": "code",
   "execution_count": 8,
   "metadata": {},
   "outputs": [
    {
     "data": {
      "image/png": "[encoded data removed]",
      "text/plain": [
       "<Figure size 432x288 with 1 Axes>"
      ]
     },
     "metadata": {
      "needs_background": "light"
     },
     "output_type": "display_data"
    }
   ],
   "source": [
    "series2.plot()\n",
    "plt.show()\n"
   ]
  },
  {
   "cell_type": "code",
   "execution_count": 9,
   "metadata": {},
   "outputs": [
    {
     "data": {
      "text/plain": [
       "<function matplotlib.pyplot.show(*args, **kw)>"
      ]
     },
     "execution_count": 9,
     "metadata": {},
     "output_type": "execute_result"
    },
    {
     "data": {
      "image/png": "[encoded data removed]",
      "text/plain": [
       "<Figure size 432x288 with 2 Axes>"
      ]
     },
     "metadata": {
      "needs_background": "light"
     },
     "output_type": "display_data"
    }
   ],
   "source": [
    "plt.figure(1)\n",
    "plt.subplot(211)\n",
    "series1.hist()\n",
    "plt.subplot(212)\n",
    "series1.plot(kind='kde')\n",
    "plt.show"
   ]
  },
  {
   "cell_type": "code",
   "execution_count": 10,
   "metadata": {},
   "outputs": [
    {
     "data": {
      "text/plain": [
       "<function matplotlib.pyplot.show(*args, **kw)>"
      ]
     },
     "execution_count": 10,
     "metadata": {},
     "output_type": "execute_result"
    },
    {
     "data": {
      "image/png": "[encoded data removed]",
      "text/plain": [
       "<Figure size 432x288 with 2 Axes>"
      ]
     },
     "metadata": {
      "needs_background": "light"
     },
     "output_type": "display_data"
    }
   ],
   "source": [
    "plt.figure(1)\n",
    "plt.subplot(211)\n",
    "series2.hist()\n",
    "plt.subplot(212)\n",
    "series2.plot(kind='kde')\n",
    "plt.show"
   ]
  },
  {
   "cell_type": "markdown",
   "metadata": {},
   "source": [
    "The distributions are not Gaussians. The bell curve for estimatedqty is long tailed to the left and the spillno is left shifted. This may suggest an exponential or a double Gaussian and we may see some benefit in exploring some power transforms of the data before modeling."
   ]
  },
  {
   "cell_type": "code",
   "execution_count": 11,
   "metadata": {},
   "outputs": [
    {
     "name": "stdout",
     "output_type": "stream",
     "text": [
      "0\n",
      "2005-01-31     100.057000\n",
      "2005-02-28       0.030000\n",
      "2005-03-31       3.060000\n",
      "2005-04-30      24.014200\n",
      "2005-05-31      50.000000\n",
      "                 ...     \n",
      "2018-08-31    3826.540419\n",
      "2018-09-30    1702.437938\n",
      "2018-10-31    3195.143897\n",
      "2018-11-30    2662.695108\n",
      "2018-12-31    1198.564149\n",
      "Name: 1, Length: 168, dtype: float64\n"
     ]
    },
    {
     "data": {
      "text/plain": [
       "<function matplotlib.pyplot.show(*args, **kw)>"
      ]
     },
     "execution_count": 11,
     "metadata": {},
     "output_type": "execute_result"
    },
    {
     "data": {
      "image/png": "[encoded data removed]",
      "text/plain": [
       "<Figure size 432x288 with 1 Axes>"
      ]
     },
     "metadata": {
      "needs_background": "light"
     },
     "output_type": "display_data"
    }
   ],
   "source": [
    "print (series1)\n",
    "#new_re_df = [s.iloc[np.where(ts.astype(int) == int(i))] for i in ts]\n",
    "groups = series1['2005':'2018'].groupby(Grouper(freq='A'))\n",
    "years = DataFrame()\n",
    "for name, group in groups:\n",
    "    years[name.year]= group.values\n",
    "years.boxplot()\n",
    "plt.show"
   ]
  },
  {
   "cell_type": "code",
   "execution_count": 12,
   "metadata": {},
   "outputs": [
    {
     "name": "stdout",
     "output_type": "stream",
     "text": [
      "0\n",
      "2005-01-31    16\n",
      "2005-02-28    19\n",
      "2005-03-31     9\n",
      "2005-04-30    28\n",
      "2005-05-31     1\n",
      "              ..\n",
      "2018-08-31    55\n",
      "2018-09-30    45\n",
      "2018-10-31    46\n",
      "2018-11-30    69\n",
      "2018-12-31    39\n",
      "Name: 1, Length: 168, dtype: int64\n"
     ]
    },
    {
     "data": {
      "text/plain": [
       "<function matplotlib.pyplot.show(*args, **kw)>"
      ]
     },
     "execution_count": 12,
     "metadata": {},
     "output_type": "execute_result"
    },
    {
     "data": {
      "image/png": "[encoded data removed]",
      "text/plain": [
       "<Figure size 432x288 with 1 Axes>"
      ]
     },
     "metadata": {
      "needs_background": "light"
     },
     "output_type": "display_data"
    }
   ],
   "source": [
    "print (series2)\n",
    "#new_re_df = [s.iloc[np.where(ts.astype(int) == int(i))] for i in ts]\n",
    "groups = series2['2005':'2018'].groupby(Grouper(freq='A'))\n",
    "years = DataFrame()\n",
    "for name, group in groups:\n",
    "    years[name.year]= group.values\n",
    "years.boxplot()\n",
    "plt.show"
   ]
  },
  {
   "cell_type": "markdown",
   "metadata": {},
   "source": [
    "Fluctuations may not be systematic and hard to model"
   ]
  },
  {
   "cell_type": "markdown",
   "metadata": {},
   "source": [
    "Developing a manually configured ARIMA(p, d, q) requires a stationary time series. We will create a stationary series by differencing"
   ]
  },
  {
   "cell_type": "code",
   "execution_count": 13,
   "metadata": {},
   "outputs": [
    {
     "name": "stdout",
     "output_type": "stream",
     "text": [
      "ADF Statistic: -7.329128\n",
      "p-value: 0.000000\n",
      "Critical Values:\n",
      "\t1%: -3.473\n",
      "\t5%: -2.880\n",
      "\t10%: -2.577\n"
     ]
    }
   ],
   "source": [
    "# create a differenced time series\n",
    "from pandas import Series\n",
    "def difference(dataset):\n",
    "    diff = list()\n",
    "    for i in range (1, len(dataset)):\n",
    "        value = dataset[i] - dataset[i -1]\n",
    "        diff.append(value)\n",
    "    return Series(diff)\n",
    "\n",
    "series = read_csv('dataset1.csv', header=None, index_col=0, parse_dates=True, squeeze=True)\n",
    "X = series.values\n",
    "\n",
    "# difference data\n",
    "stationary = difference(X)\n",
    "stationary.index = series1.index[1:]\n",
    "\n",
    "#Check if stationary\n",
    "result = adfuller(stationary)\n",
    "print ('ADF Statistic: %f' % result[0])\n",
    "print ('p-value: %f' %result[1])\n",
    "print ('Critical Values:')\n",
    "for key, value in result[4].items():\n",
    "       print('\\t%s: %.3f' %(key, value))\n",
    "#save\n",
    "stationary.to_csv('stationary.csv', header=False)"
   ]
  },
  {
   "cell_type": "code",
   "execution_count": 14,
   "metadata": {},
   "outputs": [
    {
     "name": "stdout",
     "output_type": "stream",
     "text": [
      "ADF Statistic: -13.405184\n",
      "p-value: 0.000000\n",
      "Critical Values:\n",
      "\t1%: -3.471\n",
      "\t5%: -2.879\n",
      "\t10%: -2.576\n"
     ]
    }
   ],
   "source": [
    "# create a differenced time series\n",
    "def difference(dataset):\n",
    "    diff = list()\n",
    "    for i in range (1, len(dataset)):\n",
    "        value = dataset[i] - dataset[i - 1]\n",
    "        diff.append(value)\n",
    "    return Series(diff)\n",
    "X = series2.values\n",
    "\n",
    "# difference data\n",
    "stationary1 = difference(X)\n",
    "stationary.index = series2.index[1:]\n",
    "\n",
    "#Check if stationary\n",
    "result = adfuller(stationary1)\n",
    "print ('ADF Statistic: %f' % result[0])\n",
    "print ('p-value: %f' %result[1])\n",
    "print ('Critical Values:')\n",
    "for key, value in result[4].items():\n",
    "       print('\\t%s: %.3f' %(key, value))\n",
    "#save\n",
    "stationary1.to_csv('stationary1.csv', header=False)"
   ]
  },
  {
   "cell_type": "markdown",
   "metadata": {},
   "source": [
    "    The Augumented Dickey-Fuller test results for 2 series shows that their test statistic values are smaller than the critical value at 5%. This suggests that we can reject the null hypothesis with a significance level of less than 5%. This means that the process has no unit root, and in turn that the 1-lag differenced time series is stationary or does not have time dependent structure. This suggests that at least one level of differencing is required. The d parameter in our ARIMA model should at least be a value of 1."
   ]
  },
  {
   "cell_type": "code",
   "execution_count": 15,
   "metadata": {},
   "outputs": [],
   "source": [
    "# ACF and PACF plots of the time series to give the p (AR) and q(MA) parameters"
   ]
  },
  {
   "cell_type": "code",
   "execution_count": 16,
   "metadata": {},
   "outputs": [
    {
     "data": {
      "image/png": "[encoded data removed]",
      "text/plain": [
       "<Figure size 432x288 with 2 Axes>"
      ]
     },
     "metadata": {
      "needs_background": "light"
     },
     "output_type": "display_data"
    }
   ],
   "source": [
    "plt.figure()\n",
    "plt.subplot(211)\n",
    "plot_acf(series1, lags=100, ax=plt.gca())\n",
    "plt.subplot(212)\n",
    "plot_pacf(series1, lags=100, ax=plt.gca())\n",
    "plt.show()"
   ]
  },
  {
   "cell_type": "code",
   "execution_count": 17,
   "metadata": {},
   "outputs": [
    {
     "data": {
      "image/png": "[encoded data removed]",
      "text/plain": [
       "<Figure size 432x288 with 2 Axes>"
      ]
     },
     "metadata": {
      "needs_background": "light"
     },
     "output_type": "display_data"
    }
   ],
   "source": [
    "plt.figure()\n",
    "plt.subplot(211)\n",
    "plot_acf(series2, lags=25, ax=plt.gca())\n",
    "plt.subplot(212)\n",
    "plot_pacf(series2, lags=25, ax=plt.gca())\n",
    "plt.show()"
   ]
  },
  {
   "cell_type": "markdown",
   "metadata": {},
   "source": [
    "Appears difficult to interpret. So will use Grid Search ARIMA Hyperparameters p: 0 to 12, d: 0 to 3, q: 0 to 12"
   ]
  },
  {
   "cell_type": "code",
   "execution_count": null,
   "metadata": {},
   "outputs": [
    {
     "name": "stdout",
     "output_type": "stream",
     "text": [
      "Best ARIMANone RMSE=inf\n",
      "Best ARIMANone RMSE=inf\n",
      "Best ARIMANone RMSE=inf\n",
      "Best ARIMANone RMSE=inf\n",
      "Best ARIMANone RMSE=inf\n",
      "Best ARIMANone RMSE=inf\n",
      "Best ARIMANone RMSE=inf\n",
      "Best ARIMANone RMSE=inf\n"
     ]
    }
   ],
   "source": [
    "#evaluate an ARIMA model for a given order (p,d,q) and return RMSE\n",
    "def evaluate_arima_model(X, arima_order):\n",
    "    for t in range (len(test)):\n",
    "        model = ARIMA(history, order = arima_order)\n",
    "        model_fit = model.fit(disp=0)\n",
    "        yhat = model_fit.forecast()[0]\n",
    "        predictions.append(test[t])\n",
    "    #Calculate out of sample error\n",
    "    rmse = sqrt(mean_squared_error(test, predictions))\n",
    "    return rmse\n",
    "\n",
    "# evaluate combinations of p, d and q values for an ARIMA model\n",
    "def evaluate_models(dataset, p_values, d_values, q_values):\n",
    "    dataset = dataset.astype('float32')\n",
    "    best_score, best_cfg = float(\"inf\"), None\n",
    "    for p in p_values:\n",
    "        for d in d_values:\n",
    "            for q in q_values:\n",
    "                order = (p,d,q)\n",
    "                try:\n",
    "                    rmse = evaluate_arima_model(dataset, order)\n",
    "                    if rmse < best_score:\n",
    "                        best_score, best_cfg = rmse, order\n",
    "                    print ('ARIMA%s RMSE =%.3f'%(order, rmse))\n",
    "                except:\n",
    "                    continue\n",
    "            print('Best ARIMA%s RMSE=%.3f' %(best_cfg, best_score))\n",
    "            \n",
    "#load dataset\n",
    "series1 = read_csv('dataset1.csv', header=None, index_col=0, parse_dates=True, squeeze=True)\n",
    "\n",
    "#evaluate parameters\n",
    "p_values = range(0, 13)\n",
    "d_values = range(0, 4)\n",
    "q_values = range(0, 13)\n",
    "\n",
    "warnings.filterwarnings(\"ignore\")\n",
    "evaluate_models(series1.values, p_values, d_values, q_values)"
   ]
  },
  {
   "cell_type": "markdown",
   "metadata": {},
   "source": [
    "21st July 9.22pm"
   ]
  }
 ],
 "metadata": {
  "kernelspec": {
   "display_name": "Python 3",
   "language": "python",
   "name": "python3"
  },
  "language_info": {
   "codemirror_mode": {
    "name": "ipython",
    "version": 3
   },
   "file_extension": ".py",
   "mimetype": "text/x-python",
   "name": "python",
   "nbconvert_exporter": "python",
   "pygments_lexer": "ipython3",
   "version": "3.6.10"
  }
 },
 "nbformat": 4,
 "nbformat_minor": 4
}
